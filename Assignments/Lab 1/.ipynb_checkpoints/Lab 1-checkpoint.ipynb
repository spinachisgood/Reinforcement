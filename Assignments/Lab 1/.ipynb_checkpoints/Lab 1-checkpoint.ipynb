{
 "cells": [
  {
   "cell_type": "code",
   "execution_count": null,
   "metadata": {},
   "outputs": [],
   "source": [
    "# Solution to Lab 1 - Reinforcement\n",
    "\n",
    "\n",
    "\n",
    "\n",
    "\n",
    "import numpy as np\n",
    "import maze as mz \n",
    "\n",
    "\n",
    "\n",
    "# Description of the maze as a numpy array\n",
    "maze = np.array([\n",
    "    [0, 0, 1, 0, 0, 0, 0,0],\n",
    "    [0, 0, 1, 0, 0, 1, 0,0],\n",
    "    [0, 0, 1, 0, 0, 1, 1,1],\n",
    "    [0, 0, 1, 0, 0, 1, 0,0],\n",
    "    [0, 0, 0, 0, 0, 0, 0,0], \n",
    "    [0, 1, 1, 1, 1, 1, 1,0],\n",
    "    [0, 0, 0, 0, 1, 2, 0,0]\n",
    "])\n",
    "# with the convention \n",
    "# 0 = empty cell\n",
    "# 1 = obstacle\n",
    "# 2 = exit of the Maze\n",
    "\n",
    "mz.draw_maze(maze)"
   ]
  }
 ],
 "metadata": {
  "kernelspec": {
   "display_name": "Python 3",
   "language": "python",
   "name": "python3"
  },
  "language_info": {
   "codemirror_mode": {
    "name": "ipython",
    "version": 3
   },
   "file_extension": ".py",
   "mimetype": "text/x-python",
   "name": "python",
   "nbconvert_exporter": "python",
   "pygments_lexer": "ipython3",
   "version": "3.7.4"
  }
 },
 "nbformat": 4,
 "nbformat_minor": 2
}
