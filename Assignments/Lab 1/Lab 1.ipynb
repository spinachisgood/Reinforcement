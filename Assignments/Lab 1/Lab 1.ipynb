{
 "cells": [
  {
   "cell_type": "code",
   "execution_count": 6,
   "metadata": {},
   "outputs": [
    {
     "data": {
      "image/png": "[encoded data removed]",
      "text/plain": [
       "<Figure size 576x504 with 1 Axes>"
      ]
     },
     "metadata": {},
     "output_type": "display_data"
    }
   ],
   "source": [
    "# Solution to Lab 1 - Reinforcement\n",
    "\n",
    "import numpy as np\n",
    "import maze as mz \n",
    "\n",
    "start  = (0,0);\n",
    "\n",
    "\n",
    "# Description of the maze as a numpy array\n",
    "maze = np.array([\n",
    "    [0, 0, 1, 0, 0, 0, 0,0],\n",
    "    [0, 0, 1, 0, 0, 1, 0,0],\n",
    "    [0, 0, 1, 0, 0, 1, 1,1],\n",
    "    [0, 0, 1, 0, 0, 1, 0,0],\n",
    "    [0, 0, 0, 0, 0, 0, 0,0], \n",
    "    [0, 1, 1, 1, 1, 1, 1,0],\n",
    "    [0, 0, 0, 0, 1, 2, 0,0]\n",
    "])\n",
    "# with the convention \n",
    "# 0 = empty cell\n",
    "# 1 = obstacle\n",
    "# 2 = exit of the Maze\n",
    "\n",
    "mz.draw_maze(maze)"
   ]
  },
  {
   "cell_type": "markdown",
   "metadata": {},
   "source": [
    "State space could be set of all  quadraple {(i,j),(k,l) such that (i,j) is not an obstacle }\n",
    "Action = {U,D,L,R,Stay}\n",
    "\n",
    "Rewards is  if (i,j) = obstacle or wall = -1000, Reward for getting caught (i,j)==(k,l) = -10;  // Since we are interested in escaping the maze in a given time than surviving.\n",
    "If (i,j) = Goal then 0\n",
    "else -1;\n",
    "\n",
    "Transition probability \n",
    "\n",
    "\n",
    "p(s|s,a=stay)=0  ( Due to random walk of minotaur)\n",
    "and p(s|s)=1\n",
    "if (s'= minataur pose or wall)\n",
    "p(s'|s)\n",
    "\n",
    "i -> Change\n",
    "j -> Minataur \n",
    "\n",
    "\n",
    "(i,j) ->(i',j)\n",
    "    1,1 1,2 2,1 2,1 \n",
    " 1,1 -inf 1\n",
    " 1,2 -inf 1\n",
    " 2,1\n",
    " 2,2\n",
    " \n",
    "\n",
    "Action = Left Right Up Down Stay\n",
    "\n",
    "\n",
    "\n",
    "\n",
    "\n",
    "\n"
   ]
  },
  {
   "cell_type": "code",
   "execution_count": 7,
   "metadata": {},
   "outputs": [],
   "source": [
    "env = mz.Maze(maze)"
   ]
  },
  {
   "cell_type": "code",
   "execution_count": null,
   "metadata": {},
   "outputs": [],
   "source": []
  },
  {
   "cell_type": "markdown",
   "metadata": {},
   "source": []
  }
 ],
 "metadata": {
  "kernelspec": {
   "display_name": "Python 3",
   "language": "python",
   "name": "python3"
  },
  "language_info": {
   "codemirror_mode": {
    "name": "ipython",
    "version": 3
   },
   "file_extension": ".py",
   "mimetype": "text/x-python",
   "name": "python",
   "nbconvert_exporter": "python",
   "pygments_lexer": "ipython3",
   "version": "3.7.4"
  }
 },
 "nbformat": 4,
 "nbformat_minor": 2
}
