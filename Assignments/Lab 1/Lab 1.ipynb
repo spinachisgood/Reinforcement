{
 "cells": [
  {
   "cell_type": "code",
   "execution_count": 1,
   "metadata": {},
   "outputs": [],
   "source": [
    "# Solution to Lab 1 - Reinforcement\n",
    "\n",
    "import numpy as np\n",
    "import maze as mz \n",
    "\n",
    "start  = (0,1,6,0);\n",
    "\n",
    "\n",
    "# Description of the maze as a numpy array\n",
    "maze = np.array([\n",
    "    [0, 0, 1, 0, 0, 0, 0,0],\n",
    "    [0, 0, 1, 0, 0, 1, 0,0],\n",
    "    [0, 0, 1, 0, 0, 1, 1,1],\n",
    "    [0, 0, 1, 0, 0, 1, 0,0],\n",
    "    [0, 0, 0, 0, 0, 0, 0,0], \n",
    "    [0, 1, 1, 1, 1, 1, 1,0],\n",
    "    [0, 0, 0, 0, 1, 2, 0,0]\n",
    "])\n",
    "\n",
    "\n",
    "# maze = np.array([[0, 0 ,0],[0 ,1 ,0],[0, 0,2]])\n",
    "# maze = np.array([[0,0],[0,0]])\n",
    "# with the convention \n",
    "# 0 = empty cell\n",
    "# 1 = obstacle\n",
    "# 2 = exit of the Maze\n",
    "\n",
    "mz.draw_maze(maze)"
   ]
  },
  {
   "cell_type": "markdown",
   "metadata": {},
   "source": [
    "State space could be set of all  quadraple {(i,j),(k,l) such that (i,j) is not an obstacle }\n",
    "Action = {U,D,L,R,Stay}\n",
    "\n",
    "Rewards is  if (i,j) = obstacle or wall = -1000, Reward for getting caught (i,j)==(k,l) = -10;  // Since we are interested in escaping the maze in a given time than surviving.\n",
    "If (i,j) = Goal then 0\n",
    "else -1;\n",
    "\n",
    "Transition probability \n",
    "\n",
    "\n",
    "p(s|s,a=stay)=0  ( Due to random walk of minotaur)\n",
    "and p(s|s)=1\n",
    "if (s'= minataur pose or wall)\n",
    "p(s'|s)\n",
    "\n",
    "i -> Change\n",
    "j -> Minataur \n",
    "\n",
    "\n",
    "(i,j) ->(i',j)\n",
    "    1,1 1,2 2,1 2,1 \n",
    " 1,1 -inf 1\n",
    " 1,2 -inf 1\n",
    " 2,1\n",
    " 2,2\n",
    " \n",
    "\n",
    "Action = Left Right Up Down Stay\n",
    "\n",
    "\n",
    "\n",
    "\n",
    "\n",
    "\n"
   ]
  },
  {
   "cell_type": "code",
   "execution_count": 2,
   "metadata": {},
   "outputs": [],
   "source": [
    "env = mz.Maze(maze)"
   ]
  },
  {
   "cell_type": "code",
   "execution_count": 3,
   "metadata": {},
   "outputs": [],
   "source": [
    "# Finite horizon\n",
    "horizon = 20\n",
    "# Solve the MDP problem with dynamic programming \n",
    "V, policy= mz.dynamic_programming(env,horizon);"
   ]
  },
  {
   "cell_type": "markdown",
   "metadata": {},
   "source": []
  },
  {
   "cell_type": "code",
   "execution_count": null,
   "metadata": {},
   "outputs": [],
   "source": []
  },
  {
   "cell_type": "code",
   "execution_count": 4,
   "metadata": {},
   "outputs": [
    {
     "name": "stdout",
     "output_type": "stream",
     "text": [
      "[(0, 1, 6, 0)]\n",
      "0.0\n",
      "Current state is  104 -> policy 0.0 104\n",
      "Current state is  105 -> policy 0.0 105\n",
      "Current state is  97 -> policy 0.0 97\n",
      "Current state is  105 -> policy 0.0 105\n",
      "Current state is  106 -> policy 0.0 106\n",
      "Current state is  105 -> policy 0.0 105\n",
      "Current state is  97 -> policy 0.0 97\n",
      "Current state is  98 -> policy 0.0 98\n",
      "Current state is  90 -> policy 0.0 90\n",
      "Current state is  89 -> policy 0.0 89\n",
      "Current state is  88 -> policy 0.0 88\n",
      "Current state is  96 -> policy 0.0 96\n",
      "Current state is  104 -> policy 0.0 104\n",
      "Current state is  96 -> policy 0.0 96\n",
      "Current state is  88 -> policy 0.0 88\n",
      "Current state is  96 -> policy 0.0 96\n",
      "Current state is  97 -> policy 0.0 97\n",
      "Current state is  98 -> policy 0.0 98\n",
      "Current state is  97 -> policy 0.0 97\n",
      "Current state is  89 -> policy 0.0 89\n"
     ]
    }
   ],
   "source": [
    "method = 'DynProg';\n",
    "start  = (0,1,6,0);\n",
    "path = env.simulate(start, policy, method);"
   ]
  },
  {
   "cell_type": "code",
   "execution_count": 5,
   "metadata": {},
   "outputs": [
    {
     "data": {
      "image/png": "[encoded data removed]",
      "text/plain": [
       "<Figure size 576x504 with 1 Axes>"
      ]
     },
     "metadata": {},
     "output_type": "display_data"
    }
   ],
   "source": [
    "mz.animate_solution(maze, path)"
   ]
  },
  {
   "cell_type": "code",
   "execution_count": 6,
   "metadata": {},
   "outputs": [
    {
     "data": {
      "text/plain": [
       "[(0, 1, 6, 0),\n",
       " (0, 1, 6, 1),\n",
       " (0, 1, 5, 1),\n",
       " (0, 1, 6, 1),\n",
       " (0, 1, 6, 2),\n",
       " (0, 1, 6, 1),\n",
       " (0, 1, 5, 1),\n",
       " (0, 1, 5, 2),\n",
       " (0, 1, 4, 2),\n",
       " (0, 1, 4, 1),\n",
       " (0, 1, 4, 0),\n",
       " (0, 1, 5, 0),\n",
       " (0, 1, 6, 0),\n",
       " (0, 1, 5, 0),\n",
       " (0, 1, 4, 0),\n",
       " (0, 1, 5, 0),\n",
       " (0, 1, 5, 1),\n",
       " (0, 1, 5, 2),\n",
       " (0, 1, 5, 1),\n",
       " (0, 1, 4, 1),\n",
       " (0, 1, 4, 0)]"
      ]
     },
     "execution_count": 6,
     "metadata": {},
     "output_type": "execute_result"
    }
   ],
   "source": [
    "path\n"
   ]
  },
  {
   "cell_type": "code",
   "execution_count": 7,
   "metadata": {},
   "outputs": [
    {
     "data": {
      "text/plain": [
       "array([[0., 0., 0., ..., 0., 0., 0.],\n",
       "       [0., 0., 0., ..., 0., 0., 0.],\n",
       "       [0., 0., 0., ..., 0., 0., 0.],\n",
       "       ...,\n",
       "       [0., 0., 0., ..., 0., 0., 0.],\n",
       "       [0., 0., 0., ..., 0., 0., 0.],\n",
       "       [0., 0., 0., ..., 0., 0., 0.]])"
      ]
     },
     "execution_count": 7,
     "metadata": {},
     "output_type": "execute_result"
    }
   ],
   "source": [
    "policy\n"
   ]
  },
  {
   "cell_type": "code",
   "execution_count": 8,
   "metadata": {
    "scrolled": true
   },
   "outputs": [
    {
     "data": {
      "text/plain": [
       "array([[0.2, 0.2, 0.2, 0.2, 0.2],\n",
       "       [0.2, 0.2, 0.2, 0.2, 0.2],\n",
       "       [0.2, 0.2, 0.2, 0.2, 0.2],\n",
       "       ...,\n",
       "       [0.2, 0.2, 0.2, 0.2, 0.2],\n",
       "       [0.2, 0.2, 0.2, 0.2, 0.2],\n",
       "       [0.2, 0.2, 0.2, 0.2, 0.2]])"
      ]
     },
     "execution_count": 8,
     "metadata": {},
     "output_type": "execute_result"
    }
   ],
   "source": [
    "env.transition_probabilities[0,:,:]"
   ]
  },
  {
   "cell_type": "code",
   "execution_count": 9,
   "metadata": {},
   "outputs": [
    {
     "data": {
      "text/plain": [
       "array([[0., 0., 0., 0., 0.],\n",
       "       [0., 0., 0., 0., 0.],\n",
       "       [0., 0., 0., 0., 0.],\n",
       "       ...,\n",
       "       [0., 0., 0., 0., 0.],\n",
       "       [0., 0., 0., 0., 0.],\n",
       "       [0., 0., 0., 0., 0.]])"
      ]
     },
     "execution_count": 9,
     "metadata": {},
     "output_type": "execute_result"
    }
   ],
   "source": [
    "env.rewards\n"
   ]
  },
  {
   "cell_type": "code",
   "execution_count": 10,
   "metadata": {},
   "outputs": [
    {
     "data": {
      "text/plain": [
       "(2240, 2240, 5)"
      ]
     },
     "execution_count": 10,
     "metadata": {},
     "output_type": "execute_result"
    }
   ],
   "source": [
    "np.shape(env.transition_probabilities)"
   ]
  },
  {
   "cell_type": "code",
   "execution_count": 11,
   "metadata": {},
   "outputs": [],
   "source": [
    " a = [1,2,3,4]\n",
    "    "
   ]
  },
  {
   "cell_type": "code",
   "execution_count": 12,
   "metadata": {},
   "outputs": [
    {
     "data": {
      "text/plain": [
       "False"
      ]
     },
     "execution_count": 12,
     "metadata": {},
     "output_type": "execute_result"
    }
   ],
   "source": [
    "1 not in a"
   ]
  },
  {
   "cell_type": "code",
   "execution_count": 13,
   "metadata": {},
   "outputs": [
    {
     "data": {
      "text/plain": [
       "array([0., 0., 0., 0., 0.])"
      ]
     },
     "execution_count": 13,
     "metadata": {},
     "output_type": "execute_result"
    }
   ],
   "source": [
    "env.rewards[1][:]"
   ]
  },
  {
   "cell_type": "code",
   "execution_count": 14,
   "metadata": {},
   "outputs": [
    {
     "data": {
      "text/plain": [
       "array([0., 0., 0., 0., 0.])"
      ]
     },
     "execution_count": 14,
     "metadata": {},
     "output_type": "execute_result"
    }
   ],
   "source": [
    "env.rewards[0][:]"
   ]
  },
  {
   "cell_type": "code",
   "execution_count": 15,
   "metadata": {},
   "outputs": [
    {
     "data": {
      "text/plain": [
       "array([[0., 0., 0., 0., 0.],\n",
       "       [0., 0., 0., 0., 0.],\n",
       "       [0., 0., 0., 0., 0.],\n",
       "       ...,\n",
       "       [0., 0., 0., 0., 0.],\n",
       "       [0., 0., 0., 0., 0.],\n",
       "       [0., 0., 0., 0., 0.]])"
      ]
     },
     "execution_count": 15,
     "metadata": {},
     "output_type": "execute_result"
    }
   ],
   "source": [
    "env.rewards"
   ]
  },
  {
   "cell_type": "code",
   "execution_count": 16,
   "metadata": {},
   "outputs": [
    {
     "data": {
      "text/plain": [
       "(0, 0, 0, 1)"
      ]
     },
     "execution_count": 16,
     "metadata": {},
     "output_type": "execute_result"
    }
   ],
   "source": [
    "env.states[1]"
   ]
  },
  {
   "cell_type": "code",
   "execution_count": 17,
   "metadata": {},
   "outputs": [
    {
     "data": {
      "text/plain": [
       "0"
      ]
     },
     "execution_count": 17,
     "metadata": {},
     "output_type": "execute_result"
    }
   ],
   "source": [
    "env.maze[(0,1)]"
   ]
  },
  {
   "cell_type": "markdown",
   "metadata": {},
   "source": []
  },
  {
   "cell_type": "code",
   "execution_count": null,
   "metadata": {},
   "outputs": [],
   "source": []
  }
 ],
 "metadata": {
  "kernelspec": {
   "display_name": "Python 3",
   "language": "python",
   "name": "python3"
  },
  "language_info": {
   "codemirror_mode": {
    "name": "ipython",
    "version": 3
   },
   "file_extension": ".py",
   "mimetype": "text/x-python",
   "name": "python",
   "nbconvert_exporter": "python",
   "pygments_lexer": "ipython3",
   "version": "3.7.4"
  }
 },
 "nbformat": 4,
 "nbformat_minor": 2
}
