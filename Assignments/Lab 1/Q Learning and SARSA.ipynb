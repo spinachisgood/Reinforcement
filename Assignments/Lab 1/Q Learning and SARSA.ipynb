{
 "cells": [
  {
   "cell_type": "code",
   "execution_count": 1,
   "metadata": {},
   "outputs": [],
   "source": [
    "# 1.3 Robbing Banks Reloaded\n",
    "# Solution to Q Learning and Sarsa\n",
    "\n",
    "'''\n",
    "Given Information:\n",
    "\n",
    "Robber enters the town at position A(0,0), Police start at (3,3), Bank is at (1,1)\n",
    "\n",
    "Rewards\n",
    "-------\n",
    "\n",
    "If an action leads to Bank \n",
    "R(s,a) = 1\n",
    "\n",
    "If caught by police R(s,a) = -10\n",
    "\n",
    "Assume :\n",
    "Normal Reward = -1\n",
    "\n",
    "\n",
    "\n",
    "Objective\n",
    "---------\n",
    "\n",
    "Develop an algorithm learning the policy to maximize total discounted reward\n",
    "\n",
    "Discount factor (lambda)  = 0.8\n",
    "\n",
    "\n",
    "'''\n",
    "import matplotlib.pyplot as plt\n",
    "import numpy as np\n",
    "import maze as mz \n",
    "from random import randint\n",
    "\n",
    "\n",
    "STAY = 0\n",
    "LEFT = 1\n",
    "RIGHT = 2\n",
    "UP = 3\n",
    "DOWN = 4\n",
    "\n",
    "movement = [[0,0],[-1,0],[1,0],[0,-1],[0,1]]\n",
    "\n",
    "bank =[1,1];\n",
    "\n",
    "states = dict();\n",
    "map_id = dict();\n",
    "s=0\n",
    "for i in range(4): # X?\n",
    "            for j in range(4): # Y?\n",
    "                for k in range(4):\n",
    "                    for l in range(4):\n",
    "                        if True:\n",
    "                            states[s] = (i,j,k,l); # make the state as a quadraple\n",
    "                            map_id[(i,j,k,l)] = s;\n",
    "                            s += 1;\n",
    "\n",
    "def limit_coordinates(c):  # Limit the movement inside 4 by 4\n",
    "    c[0] = min(c[0], 3)\n",
    "    c[0] = max(c[0], 0)\n",
    "    c[1] = min(c[1], 3)\n",
    "    c[1] = max(c[1], 0)\n",
    "    return c\n",
    "\n",
    "def move(state,action):\n",
    "    \n",
    "    robber_position = state[0:2]\n",
    "    police_position = state[2:4]\n",
    "    \n",
    "    # Adds the Robber's action\n",
    "    robber_position = np.add(np.array(robber_position), np.array(movement[action]));\n",
    "    robber_position = limit_coordinates(robber_position)\n",
    "    \n",
    "    # Police's random walk\n",
    "    while True:\n",
    "        police_action = randint(1,4);\n",
    "        police_position_new = np.add(np.array(police_position),np.array(movement[police_action]));\n",
    "        c = limit_coordinates(police_position_new)\n",
    "        if(c[0] == police_position[0]  and c[1] == police_position[1]):\n",
    "            continue;\n",
    "        else :\n",
    "            police_position = c;\n",
    "            break;\n",
    "    \n",
    "    \n",
    "    next_state = (robber_position[0],robber_position[1],police_position[0],police_position[1]);\n",
    "    next_state_id = map_id[next_state]\n",
    "    \n",
    "    #Handling rewards\n",
    "    \n",
    "    if(robber_position[0]==police_position[0]) and (robber_position[1]==police_position[1]):\n",
    "        reward = -10; # Caught\n",
    "    elif(robber_position[0] == bank[0] and robber_position[1]==bank[1]):\n",
    "        reward = 1; # Visit Bank\n",
    "    else:\n",
    "        reward = -1; # Normal Move\n",
    "        \n",
    "    return next_state_id,reward\n",
    "\n",
    "# Q learning is all about exploitation and less about exploration ( SARSA Does Exploration)\n",
    "#(0,0,0,0)\n",
    "# Regarding the states:\n",
    "# A state can be represented as S = ((x_r,y_r,x_p,y_p))\n",
    "number_of_states = 4*4*4*4;\n",
    "\n",
    "number_of_action = 5; # Robber can move Stay, Left , Right , Up , Down\n",
    "\n",
    "\n",
    "\n",
    "A ={} # This contains the next state and associated rewards\n",
    "# we build a reward matrix and \n",
    "\n",
    "for s in range(number_of_states): \n",
    "    A[s] = {a: [] for a in range(number_of_action)}  # Robber\n",
    "    for a in range(number_of_action):\n",
    "        A[s][a] = move(states[s],a);\n",
    "        \n",
    "\n",
    "\n",
    "        \n",
    "\n",
    "\n",
    "\n",
    "\n"
   ]
  },
  {
   "cell_type": "code",
   "execution_count": 2,
   "metadata": {},
   "outputs": [
    {
     "name": "stderr",
     "output_type": "stream",
     "text": [
      "IOPub data rate exceeded.\n",
      "The notebook server will temporarily stop sending output\n",
      "to the client in order to avoid crashing it.\n",
      "To change this limit, set the config variable\n",
      "`--NotebookApp.iopub_data_rate_limit`.\n",
      "\n",
      "Current values:\n",
      "NotebookApp.iopub_data_rate_limit=1000000.0 (bytes/sec)\n",
      "NotebookApp.rate_limit_window=3.0 (secs)\n",
      "\n"
     ]
    },
    {
     "data": {
      "text/plain": [
       "Text(0.5, 0, 'Iteration')"
      ]
     },
     "execution_count": 2,
     "metadata": {},
     "output_type": "execute_result"
    },
    {
     "name": "stderr",
     "output_type": "stream",
     "text": [
      "IOPub data rate exceeded.\n",
      "The notebook server will temporarily stop sending output\n",
      "to the client in order to avoid crashing it.\n",
      "To change this limit, set the config variable\n",
      "`--NotebookApp.iopub_data_rate_limit`.\n",
      "\n",
      "Current values:\n",
      "NotebookApp.iopub_data_rate_limit=1000000.0 (bytes/sec)\n",
      "NotebookApp.rate_limit_window=3.0 (secs)\n",
      "\n",
      "/Users/sabarishsridhar/Anaconda3/anaconda3/lib/python3.7/site-packages/IPython/core/events.py:88: UserWarning: Creating legend with loc=\"best\" can be slow with large amounts of data.\n",
      "  func(*args, **kwargs)\n",
      "/Users/sabarishsridhar/Anaconda3/anaconda3/lib/python3.7/site-packages/IPython/core/pylabtools.py:128: UserWarning: Creating legend with loc=\"best\" can be slow with large amounts of data.\n",
      "  fig.canvas.print_figure(bytes_io, **kw)\n"
     ]
    },
    {
     "data": {
      "image/png": "[encoded data removed]",
      "text/plain": [
       "<Figure size 432x288 with 1 Axes>"
      ]
     },
     "metadata": {
      "needs_background": "light"
     },
     "output_type": "display_data"
    }
   ],
   "source": [
    "# Q Learning\n",
    "\n",
    "\n",
    "'''\n",
    "Q(st, at) +=α*(rt + γ*maxa Q(st+1, a) - Q(st, at))\n",
    "'''\n",
    "\n",
    "Q = np.zeros((number_of_states,number_of_action))\n",
    "V = np.zeros(number_of_states)\n",
    "n = np.zeros((number_of_states,number_of_action))\n",
    "start = (0,0,3,3)\n",
    "state = map_id[start];\n",
    "l = 0.8 # Discount Factor\n",
    "no_of_games = 10000000;\n",
    "# step size is 1/n(s,a)^(2/3) where n(s,a) is the no of updates of Q(s,a)\n",
    "\n",
    "v_arr= [];\n",
    "v_arr2=[];\n",
    "v_arr3=[];\n",
    "for i in range(no_of_games):\n",
    "    action = randint(0,4);\n",
    "    dr = 1/(n[state,action]+1);\n",
    "    alpha = np.power(dr,2/3);\n",
    "    new_state, reward = A[state][action]\n",
    "    #print(new_state,reward)\n",
    "    #Q[map_id[state]][action] += \n",
    "    #print(alpha*(reward+l*max(Q[map_id[new_state]])-Q[map_id[state]][action]))\n",
    "    Q[state, action] += alpha*(reward+l*max(Q[new_state])-Q[state, action])\n",
    "    n[state, action] += 1\n",
    "    \n",
    "    V[0] = max(Q[0]);\n",
    "    V[100] = max(Q[100]);\n",
    "    V[200] = max(Q[200]);\n",
    "    v_arr.append(V[0]);\n",
    "    v_arr2.append(V[100]);\n",
    "    v_arr3.append(V[200]);\n",
    "    state = new_state\n",
    "    #print(Q);\n",
    "#     if(i%100000):\n",
    "#         print(V[0]);\n",
    "    \n",
    "#     if(alpha < 0.01):\n",
    "#         break;\n",
    "plt.plot(v_arr,markerfacecolor='green')\n",
    "plt.title('Value function for  states 0, 100, 200 using Q Learning')\n",
    "plt.plot(v_arr2,markerfacecolor='blue')\n",
    "plt.plot(v_arr3,markerfacecolor='white')\n",
    "plt.legend([v_arr,v_arr2,v_arr3],['State 0','State 100','State 200'])\n",
    "plt.xlabel('Iteration')\n",
    "\n"
   ]
  },
  {
   "cell_type": "code",
   "execution_count": 17,
   "metadata": {},
   "outputs": [],
   "source": [
    "\n",
    "\n",
    "\n",
    "def ep_greedy(state):\n",
    "    epsilon = 0.5\n",
    "    # The Goal is to Design a method such that the best action is returned 1-episilon times and a random action is taken epsilon times\n",
    "    \n",
    "    o =[0,1,2,3,4];\n",
    "    best_action = np.argmax(Q[state]);    \n",
    "    return np.random.choice([best_action,o[0],o[1],o[2],o[3],o[4]],1,p=[1-epsilon,epsilon/5,epsilon/5,epsilon/5,epsilon/5,epsilon/5])\n",
    "\n",
    "\n",
    "# Q Learning with Epsilon Greedy a.k.a SARSA\n",
    "\n",
    "\n",
    "''' \n",
    "Formula to look out for\n",
    "\n",
    "Q(t+1)(s, a) = Q(t)(s, a)\n",
    "+ 1(st,at)=(s,a)αn(t)(st,at) rt + λQ (st+1, at+1) − Q (st, at)\n",
    "􏰇 (t) \n",
    "\n",
    "\n",
    "'''\n",
    "Q = np.zeros((number_of_states,number_of_action))\n",
    "V = np.zeros(number_of_states)\n",
    "n = np.zeros((number_of_states,number_of_action))\n",
    "start = (0,0,3,3)\n",
    "state = map_id[start];\n",
    "l = 0.8 # Discount Factor\n",
    "no_of_games = 10000000;\n",
    "# step size is 1/n(s,a)^(2/3) where n(s,a) is the no of updates of Q(s,a)\n",
    "\n",
    "v_arr= [];\n",
    "v_arr2=[];\n",
    "v_arr3=[];\n",
    "for i in range(no_of_games):\n",
    "    action = randint(0,4);\n",
    "    dr = 1/(n[state,action]+1);\n",
    "    alpha = np.power(dr,2/3);\n",
    "    new_state, reward = A[state][action]\n",
    "    #print(new_state,reward)\n",
    "    #Q[map_id[state]][action] += \n",
    "    #print(alpha*(reward+l*max(Q[map_id[new_state]])-Q[map_id[state]][action]))\n",
    "    \n",
    "    ## Find the next action using epsilon Greedy method.\n",
    "    next_action = ep_greedy(new_state);\n",
    "    \n",
    "    Q[state, action] += alpha*(reward+l*(Q[new_state][next_action])-Q[state, action])\n",
    "    n[state, action] += 1\n",
    "    \n",
    "    V[0] = max(Q[0]);\n",
    "    V[100] = max(Q[100]);\n",
    "    V[200] = max(Q[200]);\n",
    "    v_arr.append(V[0]);\n",
    "    v_arr2.append(V[100]);\n",
    "    v_arr3.append(V[200]);\n",
    "    state = new_state\n",
    "    #print(Q);\n",
    "#     if(i%100000):\n",
    "#         print(V[0]);\n",
    "    \n",
    "#     if(alpha < 0.01):\n",
    "#         break;\n",
    "# print(Q);\n",
    "# print(max(Q[state]))\n",
    "# plt.plot(v_arr)\n",
    "\n",
    "# plt.figure();\n",
    "# plt.plot(v_arr2)\n",
    "\n",
    "# plt.figure();\n",
    "# plt.plot(v_arr3)\n",
    "\n"
   ]
  },
  {
   "cell_type": "code",
   "execution_count": 18,
   "metadata": {},
   "outputs": [
    {
     "data": {
      "image/png": "[encoded data removed]",
      "text/plain": [
       "<Figure size 432x288 with 1 Axes>"
      ]
     },
     "metadata": {
      "needs_background": "light"
     },
     "output_type": "display_data"
    }
   ],
   "source": [
    "plt.plot(v_arr,markerfacecolor='green',label='State 0')\n",
    "plt.title('Value function for  states 0,100,200 with epsilon 0.5')\n",
    "plt.plot(v_arr2,markerfacecolor='blue',label='State 100')\n",
    "plt.plot(v_arr3,markerfacecolor='red',label='State 200')\n",
    "plt.xlabel('Iteration')\n",
    "plt.legend()\n",
    "plt.show()\n",
    "\n",
    "\n",
    "\n"
   ]
  },
  {
   "cell_type": "code",
   "execution_count": null,
   "metadata": {},
   "outputs": [],
   "source": [
    "print(Q);"
   ]
  },
  {
   "cell_type": "code",
   "execution_count": 6,
   "metadata": {},
   "outputs": [
    {
     "data": {
      "text/plain": [
       "Text(0.5, 0, 'Iteration')"
      ]
     },
     "execution_count": 6,
     "metadata": {},
     "output_type": "execute_result"
    },
    {
     "data": {
      "image/png": "[encoded data removed]",
      "text/plain": [
       "<Figure size 432x288 with 1 Axes>"
      ]
     },
     "metadata": {
      "needs_background": "light"
     },
     "output_type": "display_data"
    },
    {
     "data": {
      "image/png": "[encoded data removed]",
      "text/plain": [
       "<Figure size 432x288 with 1 Axes>"
      ]
     },
     "metadata": {
      "needs_background": "light"
     },
     "output_type": "display_data"
    },
    {
     "data": {
      "image/png": "[encoded data removed]",
      "text/plain": [
       "<Figure size 432x288 with 1 Axes>"
      ]
     },
     "metadata": {
      "needs_background": "light"
     },
     "output_type": "display_data"
    }
   ],
   "source": [
    "plt.plot(v_arr,markerfacecolor='green')\n",
    "plt.title('Value function for  states 0 using Q Learning')\n",
    "plt.figure();\n",
    "plt.plot(v_arr2,markerfacecolor='blue')\n",
    "plt.title('Value function for  states 100 using Q Learning')\n",
    "plt.figure();\n",
    "plt.plot(v_arr3,markerfacecolor='yellow')\n",
    "plt.title('Value function for  states 200 using Q Learning')\n",
    "\n",
    "\n",
    "\n",
    "\n",
    "plt.xlabel('Iteration')"
   ]
  },
  {
   "cell_type": "code",
   "execution_count": 26,
   "metadata": {},
   "outputs": [
    {
     "data": {
      "text/plain": [
       "(3, 0, 2, 0)"
      ]
     },
     "execution_count": 26,
     "metadata": {},
     "output_type": "execute_result"
    }
   ],
   "source": [
    "states[200]"
   ]
  },
  {
   "cell_type": "code",
   "execution_count": null,
   "metadata": {},
   "outputs": [],
   "source": []
  }
 ],
 "metadata": {
  "kernelspec": {
   "display_name": "Python 3",
   "language": "python",
   "name": "python3"
  },
  "language_info": {
   "codemirror_mode": {
    "name": "ipython",
    "version": 3
   },
   "file_extension": ".py",
   "mimetype": "text/x-python",
   "name": "python",
   "nbconvert_exporter": "python",
   "pygments_lexer": "ipython3",
   "version": "3.7.4"
  }
 },
 "nbformat": 4,
 "nbformat_minor": 2
}
